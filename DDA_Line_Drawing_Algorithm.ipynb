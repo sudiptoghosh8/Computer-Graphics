{
  "nbformat": 4,
  "nbformat_minor": 0,
  "metadata": {
    "colab": {
      "provenance": [],
      "authorship_tag": "ABX9TyOGQWicAOWAelKRxCWngd4R",
      "include_colab_link": true
    },
    "kernelspec": {
      "name": "python3",
      "display_name": "Python 3"
    },
    "language_info": {
      "name": "python"
    }
  },
  "cells": [
    {
      "cell_type": "markdown",
      "metadata": {
        "id": "view-in-github",
        "colab_type": "text"
      },
      "source": [
        "<a href=\"https://colab.research.google.com/github/sudiptoghosh8/Computer-Graphics/blob/main/DDA_Line_Drawing_Algorithm.ipynb\" target=\"_parent\"><img src=\"https://colab.research.google.com/assets/colab-badge.svg\" alt=\"Open In Colab\"/></a>"
      ]
    },
    {
      "cell_type": "code",
      "execution_count": null,
      "metadata": {
        "id": "YgPG2RPhPiPl"
      },
      "outputs": [],
      "source": [
        "# import necessary library\n",
        "from matplotlib import pyplot as plt\n",
        "\n",
        "# DDA Function for line generation\n",
        "def DDA(x0, y0, x1, y1):\n",
        "\n",
        "\n",
        "  # find absolute differences\n",
        "  dx = abs(x0-x1)\n",
        "  dy = abs(y0-y1)\n",
        "\n",
        "# find maximum difference\n",
        "  max_steps = max(dx,dy)\n",
        "\n",
        "# calculate the increment in x and y\n",
        "  xincrement = dx/max_steps\n",
        "  yincrement = dy/max_steps\n",
        "  \n",
        "  # start with 1st point\n",
        "  x = float(x0)\n",
        "  y = float(y0)\n",
        "\n",
        "  #make list of various internal coordinates that will \n",
        "  # produce from DDA algorithm and store separately\n",
        "  # as xcoordinates for x AND\n",
        "  # as ycoordinates for y \n",
        "\n",
        "  xcoordinates = []\n",
        "  ycoordinates = []\n",
        "\n",
        "  for i in range(max_steps):\n",
        "\n",
        "\n",
        "\n",
        "    xcoordinates.append(x)\n",
        "    ycoordinates.append(y)\n",
        "\n",
        "\n",
        "    print(\"x:\", x , end=\" \")\n",
        "    print(\"y:\", y, end=\"\\n\")\n",
        "\n",
        "    x = x + xincrement\n",
        "    y = y + yincrement\n",
        "\n",
        "    \n",
        "\n",
        "\n",
        "  #make a line graph to visualize the output of DDA algorithm\n",
        "   # Also, plot the line with coordinates list\n",
        "  plt.plot(xcoordinates, ycoordinates, marker='o', markersize=3,\n",
        "           markerfacecolor=\"red\")\n",
        "  plt.show()\n",
        "\n",
        "\n",
        "\n",
        "#Main functionality execute from here for the DDA algorithm\n",
        "print('input first point coordinate')\n",
        "x0=int(input())\n",
        "y0=int(input())\n",
        "# coordinates of 1st point\n",
        "#x0, y0 = 20, 20\n",
        "\n",
        "print('input second point coordinate')\n",
        "x1=int(input())\n",
        "y1=int(input())\n",
        "\t# Function call\n",
        "DDA(x0, y0, x1, y1)\n",
        "\n",
        "\n",
        "\n",
        "\n",
        "\n",
        "\n"
      ]
    }
  ]
}